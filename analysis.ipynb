{
 "cells": [
  {
   "cell_type": "code",
   "execution_count": 19,
   "id": "819f4fad",
   "metadata": {},
   "outputs": [],
   "source": [
    "import pandas as pd\n",
    "import matplotlib.pyplot as plt\n",
    "import numpy as np\n",
    "\n"
   ]
  },
  {
   "cell_type": "code",
   "execution_count": 5,
   "id": "d2c060da",
   "metadata": {},
   "outputs": [],
   "source": [
    "df = pd.read_excel (r'/Users/ashikaramesh/Documents/Semester 2/Statistics/Homework-3/cleaned data.xlsx')\n"
   ]
  },
  {
   "cell_type": "code",
   "execution_count": 6,
   "id": "c415d0e0",
   "metadata": {
    "scrolled": true
   },
   "outputs": [
    {
     "name": "stdout",
     "output_type": "stream",
     "text": [
      "            MAF      Rsq\n",
      "0       0.01000  0.94996\n",
      "1       0.01000  0.92420\n",
      "2       0.01000  0.89373\n",
      "3       0.01000  0.93227\n",
      "4       0.01000  0.77501\n",
      "...         ...      ...\n",
      "224605  0.49993  0.98439\n",
      "224606  0.49993  0.97143\n",
      "224607  0.49996  0.96209\n",
      "224608  0.49997  0.97248\n",
      "224609  0.49998  0.98173\n",
      "\n",
      "[224610 rows x 2 columns]\n"
     ]
    }
   ],
   "source": [
    "print(df)"
   ]
  },
  {
   "cell_type": "code",
   "execution_count": 13,
   "id": "51998128",
   "metadata": {
    "scrolled": true
   },
   "outputs": [],
   "source": [
    "count = df['MAF'].value_counts()"
   ]
  },
  {
   "cell_type": "code",
   "execution_count": 15,
   "id": "99687b93",
   "metadata": {},
   "outputs": [],
   "source": [
    "df['freq'] = df.groupby('MAF')['MAF'].transform('count')"
   ]
  },
  {
   "cell_type": "code",
   "execution_count": 16,
   "id": "4fcece04",
   "metadata": {},
   "outputs": [
    {
     "name": "stdout",
     "output_type": "stream",
     "text": [
      "            MAF      Rsq  freq\n",
      "0       0.01000  0.94996    61\n",
      "1       0.01000  0.92420    61\n",
      "2       0.01000  0.89373    61\n",
      "3       0.01000  0.93227    61\n",
      "4       0.01000  0.77501    61\n",
      "...         ...      ...   ...\n",
      "224605  0.49993  0.98439     3\n",
      "224606  0.49993  0.97143     3\n",
      "224607  0.49996  0.96209     1\n",
      "224608  0.49997  0.97248     1\n",
      "224609  0.49998  0.98173     1\n",
      "\n",
      "[224610 rows x 3 columns]\n"
     ]
    }
   ],
   "source": [
    "print(df)"
   ]
  },
  {
   "cell_type": "code",
   "execution_count": 23,
   "id": "6aaabb5d",
   "metadata": {},
   "outputs": [
    {
     "data": {
      "text/plain": [
       "<AxesSubplot:xlabel='MAF'>"
      ]
     },
     "execution_count": 23,
     "metadata": {},
     "output_type": "execute_result"
    },
    {
     "data": {
      "image/png": "[encoded data removed]",
      "text/plain": [
       "<Figure size 432x288 with 1 Axes>"
      ]
     },
     "metadata": {
      "needs_background": "light"
     },
     "output_type": "display_data"
    }
   ],
   "source": [
    "df.plot(kind = 'line',\n",
    "        x = 'MAF',\n",
    "        y = 'Rsq',\n",
    "        color = 'red')"
   ]
  },
  {
   "cell_type": "code",
   "execution_count": null,
   "id": "a9ccd6fe",
   "metadata": {},
   "outputs": [],
   "source": [
    "Number of lines after using an MAF cut off of > 0.01 - 16,330"
   ]
  }
 ],
 "metadata": {
  "kernelspec": {
   "display_name": "Python 3 (ipykernel)",
   "language": "python",
   "name": "python3"
  },
  "language_info": {
   "codemirror_mode": {
    "name": "ipython",
    "version": 3
   },
   "file_extension": ".py",
   "mimetype": "text/x-python",
   "name": "python",
   "nbconvert_exporter": "python",
   "pygments_lexer": "ipython3",
   "version": "3.9.5"
  }
 },
 "nbformat": 4,
 "nbformat_minor": 5
}

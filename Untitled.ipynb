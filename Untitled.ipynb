{
 "cells": [
  {
   "cell_type": "code",
   "execution_count": 1,
   "id": "4e921294",
   "metadata": {},
   "outputs": [],
   "source": [
    "import pandas as pd\n"
   ]
  },
  {
   "cell_type": "code",
   "execution_count": 5,
   "id": "3b385a12",
   "metadata": {},
   "outputs": [],
   "source": [
    "df = pd.read_excel (r'/Users/ashikaramesh/Documents/Semester 2/Statistics/Homework-3/cleaned data.xlsx')\n"
   ]
  },
  {
   "cell_type": "code",
   "execution_count": 6,
   "id": "a8e29628",
   "metadata": {},
   "outputs": [
    {
     "name": "stdout",
     "output_type": "stream",
     "text": [
      "            MAF      Rsq\n",
      "0       0.01000  0.94996\n",
      "1       0.01000  0.92420\n",
      "2       0.01000  0.89373\n",
      "3       0.01000  0.93227\n",
      "4       0.01000  0.77501\n",
      "...         ...      ...\n",
      "224605  0.49993  0.98439\n",
      "224606  0.49993  0.97143\n",
      "224607  0.49996  0.96209\n",
      "224608  0.49997  0.97248\n",
      "224609  0.49998  0.98173\n",
      "\n",
      "[224610 rows x 2 columns]\n"
     ]
    }
   ],
   "source": [
    "print(df)"
   ]
  },
  {
   "cell_type": "code",
   "execution_count": 13,
   "id": "54c1bac6",
   "metadata": {
    "scrolled": true
   },
   "outputs": [],
   "source": [
    "count = df['MAF'].value_counts()"
   ]
  },
  {
   "cell_type": "code",
   "execution_count": 14,
   "id": "36f7a214",
   "metadata": {},
   "outputs": [
    {
     "name": "stdout",
     "output_type": "stream",
     "text": [
      "0.01068    84\n",
      "0.01006    84\n",
      "0.01114    83\n",
      "0.01223    82\n",
      "0.01015    80\n",
      "           ..\n",
      "0.33366     1\n",
      "0.33367     1\n",
      "0.33375     1\n",
      "0.33379     1\n",
      "0.49998     1\n",
      "Name: MAF, Length: 42715, dtype: int64\n"
     ]
    }
   ],
   "source": []
  },
  {
   "cell_type": "code",
   "execution_count": null,
   "id": "3d956624",
   "metadata": {},
   "outputs": [],
   "source": []
  }
 ],
 "metadata": {
  "kernelspec": {
   "display_name": "Python 3 (ipykernel)",
   "language": "python",
   "name": "python3"
  },
  "language_info": {
   "codemirror_mode": {
    "name": "ipython",
    "version": 3
   },
   "file_extension": ".py",
   "mimetype": "text/x-python",
   "name": "python",
   "nbconvert_exporter": "python",
   "pygments_lexer": "ipython3",
   "version": "3.9.5"
  }
 },
 "nbformat": 4,
 "nbformat_minor": 5
}
